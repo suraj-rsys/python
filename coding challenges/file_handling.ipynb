{
 "cells": [
  {
   "cell_type": "code",
   "execution_count": 6,
   "metadata": {},
   "outputs": [
    {
     "name": "stdout",
     "output_type": "stream",
     "text": [
      "test_file.txt\n",
      "r\n"
     ]
    }
   ],
   "source": [
    "f = open('test_file.txt', 'r')\n",
    "print(f.name)\n",
    "print(f.mode)\n",
    "\n",
    "f.close()"
   ]
  },
  {
   "cell_type": "code",
   "execution_count": 12,
   "metadata": {},
   "outputs": [
    {
     "name": "stdout",
     "output_type": "stream",
     "text": [
      "test_file.txt\n",
      "True\n"
     ]
    }
   ],
   "source": [
    "with open('test_file.txt') as f:\n",
    "    print(f.name)\n",
    "\n",
    "print(f.closed)"
   ]
  },
  {
   "cell_type": "code",
   "execution_count": 24,
   "metadata": {},
   "outputs": [
    {
     "name": "stdout",
     "output_type": "stream",
     "text": [
      "Test file content 1\n",
      "Test file content 2\n"
     ]
    }
   ],
   "source": [
    "with open('test_file.txt', 'r') as f:\n",
    "    f_contents = f.readline()\n",
    "    print(f_contents, end=\"\")\n",
    "\n",
    "    f_contents = f.readline()\n",
    "    print(f_contents, end=\"\")"
   ]
  },
  {
   "cell_type": "code",
   "execution_count": 25,
   "metadata": {},
   "outputs": [
    {
     "name": "stdout",
     "output_type": "stream",
     "text": [
      "Test file content 1\n",
      "Test file content 2\n",
      "Test file content 3\n",
      "Test file content 4\n",
      "Test file content 5\n",
      "Test file content 6\n"
     ]
    }
   ],
   "source": [
    "with open('test_file.txt', 'r') as f:\n",
    "    for line in f:\n",
    "        print(line, end=\"\")"
   ]
  },
  {
   "cell_type": "code",
   "execution_count": 28,
   "metadata": {},
   "outputs": [
    {
     "name": "stdout",
     "output_type": "stream",
     "text": [
      "Test file content 1\n",
      "Test file "
     ]
    }
   ],
   "source": [
    "with open('test_file.txt', 'r') as f:\n",
    "    f_contents = f.read(30)\n",
    "    print(f_contents, end=\"\")"
   ]
  },
  {
   "cell_type": "code",
   "execution_count": 34,
   "metadata": {},
   "outputs": [
    {
     "name": "stdout",
     "output_type": "stream",
     "text": [
      "Test file con*tent 1\n",
      "Test f*ile content 2*\n",
      "Test file co*ntent 3\n",
      "Test *file content *4\n",
      "Test file c*ontent 5\n",
      "Test* file content* 6\n",
      "*"
     ]
    }
   ],
   "source": [
    "with open('test_file.txt', 'r') as f:\n",
    "    size_ro_read = 13\n",
    "\n",
    "    f_contents = f.read(size_ro_read)\n",
    "    # print(f_contents, end=\"\")\n",
    "\n",
    "    while len(f_contents) > 0:\n",
    "        print(f_contents, end='*')\n",
    "        f_contents = f.read(size_ro_read)\n"
   ]
  },
  {
   "cell_type": "code",
   "execution_count": 38,
   "metadata": {},
   "outputs": [
    {
     "name": "stdout",
     "output_type": "stream",
     "text": [
      "Test file conTest file con\n",
      "13\n"
     ]
    }
   ],
   "source": [
    "with open('test_file.txt', 'r') as f:\n",
    "    size_ro_read = 13\n",
    "\n",
    "    f_contents = f.read(size_ro_read)\n",
    "    print(f_contents, end=\"\")\n",
    "\n",
    "    f.seek(0)\n",
    "\n",
    "    f_contents = f.read(size_ro_read)\n",
    "    print(f_contents)\n",
    "\n",
    "    print(f.tell())"
   ]
  },
  {
   "cell_type": "code",
   "execution_count": 42,
   "metadata": {},
   "outputs": [],
   "source": [
    "# 'w' write mode will create a new file if it does not exist\n",
    "# will over-write if file already exists\n",
    "# if you dont want to over-write the file then use 'a' append mode\n",
    "with open('test_file2.txt', 'w') as f:\n",
    "    f.write(\"1212just created this file\")"
   ]
  },
  {
   "cell_type": "code",
   "execution_count": 45,
   "metadata": {},
   "outputs": [],
   "source": [
    "with open('test_file2.txt', 'w') as f:\n",
    "\n",
    "    f.write(\"just created this file\")\n",
    "    f.seek(0)\n",
    "    f.write(\"fi\")"
   ]
  },
  {
   "cell_type": "code",
   "execution_count": 46,
   "metadata": {},
   "outputs": [],
   "source": [
    "with open('test_file.txt', 'r') as rf:\n",
    "    with open('test_file_copy.txt', 'w') as wf:\n",
    "        for line in rf:\n",
    "            wf.write(line)"
   ]
  },
  {
   "cell_type": "code",
   "execution_count": 49,
   "metadata": {},
   "outputs": [],
   "source": [
    "# for reading and writing binary string ( iamge )\n",
    "with open('login_page.png', 'rb') as rf:\n",
    "    with open('login_page2.png', 'wb') as wf:\n",
    "        for line in rf:\n",
    "            wf.write(line)"
   ]
  },
  {
   "cell_type": "code",
   "execution_count": 51,
   "metadata": {},
   "outputs": [],
   "source": [
    "# for reading and writing binary string ( iamge )\n",
    "with open('login_page.png', 'rb') as rf:\n",
    "    with open('image2.png', 'wb') as wf:\n",
    "        chunk_size = 4096\n",
    "        rf_chunk = rf.read(chunk_size)\n",
    "\n",
    "        while len(rf_chunk)>0:\n",
    "            wf.write(rf_chunk)\n",
    "            rf_chunk = rf.read(chunk_size)"
   ]
  },
  {
   "cell_type": "code",
   "execution_count": null,
   "metadata": {},
   "outputs": [],
   "source": []
  }
 ],
 "metadata": {
  "kernelspec": {
   "display_name": "python-6rzFD8bX",
   "language": "python",
   "name": "python3"
  },
  "language_info": {
   "codemirror_mode": {
    "name": "ipython",
    "version": 3
   },
   "file_extension": ".py",
   "mimetype": "text/x-python",
   "name": "python",
   "nbconvert_exporter": "python",
   "pygments_lexer": "ipython3",
   "version": "3.10.6"
  },
  "orig_nbformat": 4
 },
 "nbformat": 4,
 "nbformat_minor": 2
}
