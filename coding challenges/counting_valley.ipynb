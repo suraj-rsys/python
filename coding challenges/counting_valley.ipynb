{
 "cells": [
  {
   "cell_type": "code",
   "execution_count": 2,
   "metadata": {},
   "outputs": [
    {
     "name": "stdout",
     "output_type": "stream",
     "text": [
      "2\n"
     ]
    }
   ],
   "source": [
    "def countingvalley(s):\n",
    "    level = 0\n",
    "    valley = 0\n",
    "\n",
    "    for i in s:\n",
    "        if i == \"U\":\n",
    "            level += 1\n",
    "        elif i == \"D\":\n",
    "            level -= 1\n",
    "        if level == 0 and i == \"U\":\n",
    "            valley += 1\n",
    "    return valley\n",
    "\n",
    "print(countingvalley(\"DDUUDDUDUUUD\"))"
   ]
  },
  {
   "cell_type": "code",
   "execution_count": null,
   "metadata": {},
   "outputs": [],
   "source": []
  }
 ],
 "metadata": {
  "kernelspec": {
   "display_name": "python-6rzFD8bX",
   "language": "python",
   "name": "python3"
  },
  "language_info": {
   "codemirror_mode": {
    "name": "ipython",
    "version": 3
   },
   "file_extension": ".py",
   "mimetype": "text/x-python",
   "name": "python",
   "nbconvert_exporter": "python",
   "pygments_lexer": "ipython3",
   "version": "3.10.6"
  },
  "orig_nbformat": 4
 },
 "nbformat": 4,
 "nbformat_minor": 2
}
