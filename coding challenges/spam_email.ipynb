{
 "cells": [
  {
   "cell_type": "code",
   "execution_count": 19,
   "metadata": {},
   "outputs": [
    {
     "name": "stdout",
     "output_type": "stream",
     "text": [
      "[1, 2, 1, 2]\n",
      "[1, 1, 1]\n",
      "[]\n"
     ]
    }
   ],
   "source": [
    "def spam_email(subjects, spam_list):\n",
    "    results = []\n",
    "    for subject in subjects:\n",
    "        # print(subject, \"---\")\n",
    "        word_list = subject.split(\" \")\n",
    "        word_count = []\n",
    "        # print(word_list)\n",
    "        for word in word_list:\n",
    "            # print(word)\n",
    "            a = word_list.count(word)\n",
    "            word_count.append(a)\n",
    "        print(word_count)\n",
    "    return results\n",
    "\n",
    "\n",
    "spam_list = [\"paid\", \"to\", \"summer\"]\n",
    "subjects = [\"i paid him paid\", \"summer time sadness\"]\n",
    "\n",
    "print(spam_email(subjects, spam_list))\n"
   ]
  },
  {
   "cell_type": "code",
   "execution_count": 21,
   "metadata": {},
   "outputs": [
    {
     "name": "stdout",
     "output_type": "stream",
     "text": [
      "{'i', 'him', 'paid'}\n",
      "{'summer', 'sadness', 'time'}\n",
      "None\n"
     ]
    }
   ],
   "source": [
    "def spam_email1(subjects, spam_list):\n",
    "    results = []\n",
    "    set1 = set(spam_list)\n",
    "    \n",
    "    for subject in subjects:\n",
    "        word_list = subject.split(\" \")\n",
    "        set2 = set(word_list)\n",
    "        print(set2)\n",
    "\n",
    "\n",
    "\n",
    "spam_list = [\"paid\", \"to\", \"summer\"]\n",
    "subjects = [\"i paid him paid\", \"summer time sadness\"]\n",
    "\n",
    "print(spam_email1(subjects, spam_list))"
   ]
  },
  {
   "cell_type": "code",
   "execution_count": 25,
   "metadata": {},
   "outputs": [
    {
     "name": "stdout",
     "output_type": "stream",
     "text": [
      "Counter({'paid': 2, 'i': 1, 'him': 1})\n",
      "Counter({'summer': 1, 'time': 1, 'sadness': 1})\n",
      "1\n"
     ]
    }
   ],
   "source": [
    "from collections import Counter\n",
    "\n",
    "def count_matching_elements(subjects, spam_list):\n",
    "    counter2 = Counter(spam_list)\n",
    "    for subject in subjects:\n",
    "        word_list = subject.split(\" \")\n",
    "        counter1 = Counter(word_list)\n",
    "        print(counter1)\n",
    "    common_elements = counter1 & counter2\n",
    "    return sum(common_elements.values())\n",
    "\n",
    "spam_list = [\"paid\", \"to\", \"summer\"]\n",
    "subjects = [\"i paid him paid\", \"summer time sadness\"]\n",
    "\n",
    "print(count_matching_elements(subjects, spam_list))"
   ]
  },
  {
   "cell_type": "code",
   "execution_count": null,
   "metadata": {},
   "outputs": [],
   "source": []
  },
  {
   "cell_type": "code",
   "execution_count": null,
   "metadata": {},
   "outputs": [],
   "source": []
  }
 ],
 "metadata": {
  "kernelspec": {
   "display_name": "python-6rzFD8bX",
   "language": "python",
   "name": "python3"
  },
  "language_info": {
   "codemirror_mode": {
    "name": "ipython",
    "version": 3
   },
   "file_extension": ".py",
   "mimetype": "text/x-python",
   "name": "python",
   "nbconvert_exporter": "python",
   "pygments_lexer": "ipython3",
   "version": "3.10.12"
  },
  "orig_nbformat": 4
 },
 "nbformat": 4,
 "nbformat_minor": 2
}
