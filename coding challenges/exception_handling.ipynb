{
 "cells": [
  {
   "cell_type": "code",
   "execution_count": 20,
   "metadata": {},
   "outputs": [
    {
     "name": "stdout",
     "output_type": "stream",
     "text": [
      "Test file content\n",
      "Executing the finally.\n"
     ]
    }
   ],
   "source": [
    "\n",
    "try:\n",
    "    f = open('test_file.txt')\n",
    "    # if f.name == 'test_file.txt':\n",
    "    #     raise Exception\n",
    "except FileNotFoundError as e:\n",
    "    print(e)\n",
    "except Exception as e:\n",
    "    print(\"Error!\")\n",
    "else: # if try does not raise an exception\n",
    "    print(f.read())\n",
    "    f.close()\n",
    "finally:\n",
    "    print(\"Executing the finally.\")"
   ]
  },
  {
   "cell_type": "code",
   "execution_count": null,
   "metadata": {},
   "outputs": [],
   "source": []
  }
 ],
 "metadata": {
  "kernelspec": {
   "display_name": "python-6rzFD8bX",
   "language": "python",
   "name": "python3"
  },
  "language_info": {
   "codemirror_mode": {
    "name": "ipython",
    "version": 3
   },
   "file_extension": ".py",
   "mimetype": "text/x-python",
   "name": "python",
   "nbconvert_exporter": "python",
   "pygments_lexer": "ipython3",
   "version": "3.10.6"
  },
  "orig_nbformat": 4
 },
 "nbformat": 4,
 "nbformat_minor": 2
}
