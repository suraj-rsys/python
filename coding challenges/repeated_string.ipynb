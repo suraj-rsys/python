{
 "cells": [
  {
   "cell_type": "code",
   "execution_count": 1,
   "metadata": {},
   "outputs": [
    {
     "name": "stdout",
     "output_type": "stream",
     "text": [
      "1000\n"
     ]
    }
   ],
   "source": [
    "def repeatedString(s, n):\n",
    "    while len(s) < n:\n",
    "        s = s+s\n",
    "\n",
    "    count = 0\n",
    "    for i in range(n):\n",
    "        if s[i] == \"a\":\n",
    "            count += 1\n",
    "    return count \n",
    "\n",
    "\n",
    "s = \"a\"\n",
    "n = 1000\n",
    "print(repeatedString(s, n))"
   ]
  },
  {
   "cell_type": "code",
   "execution_count": 7,
   "metadata": {},
   "outputs": [],
   "source": [
    "def repeatedString(s, n):\n",
    "    s1 = \"\"\n",
    "    while len(s) < n:\n",
    "        s1 = \"\"+s\n",
    "    print(s)\n",
    "    return s.count(\"a\")\n",
    "\n",
    "\n",
    "s = \"a\"\n",
    "n = 10\n",
    "print(repeatedString(s, n))"
   ]
  },
  {
   "cell_type": "code",
   "execution_count": null,
   "metadata": {},
   "outputs": [],
   "source": []
  }
 ],
 "metadata": {
  "kernelspec": {
   "display_name": "python-6rzFD8bX",
   "language": "python",
   "name": "python3"
  },
  "language_info": {
   "codemirror_mode": {
    "name": "ipython",
    "version": 3
   },
   "file_extension": ".py",
   "mimetype": "text/x-python",
   "name": "python",
   "nbconvert_exporter": "python",
   "pygments_lexer": "ipython3",
   "version": "3.10.6"
  },
  "orig_nbformat": 4
 },
 "nbformat": 4,
 "nbformat_minor": 2
}
