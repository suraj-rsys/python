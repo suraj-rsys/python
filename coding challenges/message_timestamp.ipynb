{
 "cells": [
  {
   "cell_type": "code",
   "execution_count": 35,
   "metadata": {},
   "outputs": [
    {
     "name": "stdout",
     "output_type": "stream",
     "text": [
      "['true', 'false', 'true', 'true']\n"
     ]
    }
   ],
   "source": [
    "def message_timestamp(message, timestamp, k):\n",
    "    messages = list(zip(message, timestamp))\n",
    "    l = []\n",
    "    for i in range(len(messages)):\n",
    "        if messages[i-1][0] == messages[i][0]:\n",
    "            if messages[i][1] - messages[i-1][1] > k:\n",
    "                l.append(\"true\")\n",
    "            else:\n",
    "                l.append(\"false\")\n",
    "        else:\n",
    "            l.append(\"true\")\n",
    "\n",
    "        \n",
    "    return l\n",
    "\n",
    "message = [\"hello\", \"hello\", \"hi\", \"hi\"]\n",
    "timestamp = [1, 2, 5, 11]\n",
    "k = 5\n",
    "print(message_timestamp(message, timestamp, k))"
   ]
  },
  {
   "cell_type": "code",
   "execution_count": null,
   "metadata": {},
   "outputs": [],
   "source": []
  }
 ],
 "metadata": {
  "kernelspec": {
   "display_name": "python-6rzFD8bX",
   "language": "python",
   "name": "python3"
  },
  "language_info": {
   "codemirror_mode": {
    "name": "ipython",
    "version": 3
   },
   "file_extension": ".py",
   "mimetype": "text/x-python",
   "name": "python",
   "nbconvert_exporter": "python",
   "pygments_lexer": "ipython3",
   "version": "3.10.12"
  },
  "orig_nbformat": 4
 },
 "nbformat": 4,
 "nbformat_minor": 2
}
