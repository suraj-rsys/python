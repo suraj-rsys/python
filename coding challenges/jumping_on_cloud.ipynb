{
 "cells": [
  {
   "cell_type": "code",
   "execution_count": 6,
   "metadata": {},
   "outputs": [
    {
     "name": "stdout",
     "output_type": "stream",
     "text": [
      "4\n"
     ]
    }
   ],
   "source": [
    "def jumpingOnClouds(c):\n",
    "    # Write your code here\n",
    "    count = 0\n",
    "    i = 0\n",
    "\n",
    "    while i < len(c)-1:\n",
    "        if (i+2) < len(c) and c[i+2] == 0:\n",
    "            i += 2\n",
    "        else:\n",
    "            i += 1\n",
    "        count += 1\n",
    "    return count\n",
    "    \n",
    "\n",
    "c = [0, 0, 1, 0, 0, 1, 0]\n",
    "print(jumpingOnClouds(c))"
   ]
  },
  {
   "cell_type": "code",
   "execution_count": 16,
   "metadata": {},
   "outputs": [
    {
     "name": "stdout",
     "output_type": "stream",
     "text": [
      "4\n"
     ]
    }
   ],
   "source": [
    "def jumpingOnClouds1(c):\n",
    "    # Write your code here\n",
    "    count = 0\n",
    "    i = 0\n",
    "\n",
    "    while i < len(c)-1:\n",
    "        if (i+2)< len(c) and c[i+2] == 0:\n",
    "            i += 2\n",
    "        else:\n",
    "            i += 1\n",
    "        count += 1 \n",
    "    return count\n",
    "\n",
    "c = [0, 0, 1, 0, 0, 1, 0]\n",
    "print(jumpingOnClouds1(c)) \n",
    "    "
   ]
  },
  {
   "cell_type": "code",
   "execution_count": 17,
   "metadata": {},
   "outputs": [
    {
     "name": "stdout",
     "output_type": "stream",
     "text": [
      "4\n"
     ]
    }
   ],
   "source": [
    "def jumpingOnClouds2(c):\n",
    "    count = 0\n",
    "    i = 0\n",
    "\n",
    "    while i < len(c)-1:\n",
    "        if (i+2) < len(c) and c[i+2] == 0:\n",
    "            i += 2\n",
    "        else:\n",
    "            i += 1\n",
    "        count += 1\n",
    "    return count\n",
    "\n",
    "c = [0, 0, 1, 0, 0, 1, 0]\n",
    "print(jumpingOnClouds2(c)) "
   ]
  },
  {
   "cell_type": "code",
   "execution_count": 25,
   "metadata": {},
   "outputs": [
    {
     "name": "stdout",
     "output_type": "stream",
     "text": [
      "4\n"
     ]
    }
   ],
   "source": [
    "def jumpingOnClouds3(c):\n",
    "\n",
    "    count = 0\n",
    "\n",
    "    i = 0\n",
    "    j = 0\n",
    "\n",
    "    while i < len(c)-1:\n",
    "        if i+2 < len(c) and c[i+2] == 0:\n",
    "            i = i +2\n",
    "        else:\n",
    "            i += 1\n",
    "        count += 1\n",
    "    return count\n",
    "\n",
    "\n",
    "c = [0, 0, 1, 0, 0, 1, 0]\n",
    "print(jumpingOnClouds3(c)) \n",
    "        "
   ]
  },
  {
   "cell_type": "code",
   "execution_count": 3,
   "metadata": {},
   "outputs": [
    {
     "name": "stdout",
     "output_type": "stream",
     "text": [
      "4\n"
     ]
    }
   ],
   "source": [
    "def jumpingOnClouds4(c):\n",
    "    i=0\n",
    "    count = 0\n",
    "    while i < len(c)-1:\n",
    "        if i+2 < len(c) and c[i+2] == 0:\n",
    "            i += 2\n",
    "        else:\n",
    "            i += 1\n",
    "        count += 1\n",
    "    return count\n",
    "\n",
    "c = [0, 0, 1, 0, 0, 1, 0]\n",
    "print(jumpingOnClouds4(c)) "
   ]
  },
  {
   "cell_type": "code",
   "execution_count": 6,
   "metadata": {},
   "outputs": [
    {
     "name": "stdout",
     "output_type": "stream",
     "text": [
      "4\n"
     ]
    }
   ],
   "source": [
    "def jumpingOnClouds5(c):\n",
    "    i = 0\n",
    "    count = 0\n",
    "\n",
    "    while i < len(c)-1:\n",
    "        if i+2 < len(c) and c[i+2] == 0:\n",
    "            i += 2\n",
    "        else:\n",
    "            i += 1\n",
    "        count += 1\n",
    "    return count\n",
    "\n",
    "c = [0, 0, 1, 0, 0, 1, 0]\n",
    "print(jumpingOnClouds5(c))"
   ]
  },
  {
   "cell_type": "code",
   "execution_count": null,
   "metadata": {},
   "outputs": [],
   "source": []
  }
 ],
 "metadata": {
  "kernelspec": {
   "display_name": "python-6rzFD8bX",
   "language": "python",
   "name": "python3"
  },
  "language_info": {
   "codemirror_mode": {
    "name": "ipython",
    "version": 3
   },
   "file_extension": ".py",
   "mimetype": "text/x-python",
   "name": "python",
   "nbconvert_exporter": "python",
   "pygments_lexer": "ipython3",
   "version": "3.10.6"
  },
  "orig_nbformat": 4
 },
 "nbformat": 4,
 "nbformat_minor": 2
}
