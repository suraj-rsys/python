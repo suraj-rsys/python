{
 "cells": [
  {
   "cell_type": "code",
   "execution_count": 2,
   "metadata": {},
   "outputs": [],
   "source": [
    "class Book:\n",
    "    def __init__(self, title, author, ISBN):\n",
    "        self.title = title\n",
    "        self.author = author\n",
    "        self.ISBN = ISBN\n",
    "        self.available = True\n",
    "\n",
    "    def check_out(self):\n",
    "        if self.available:\n",
    "            self.available = False\n",
    "            print(f\"{self.title} by {self.author} has been checked out.\")\n",
    "        else:\n",
    "            print(f\"{self.title} is already checked out.\")\n",
    "\n",
    "    def check_in(self):\n",
    "        if not self.available:\n",
    "            self.available = True\n",
    "            print(f\"{self.title} by {self.author} has been checked in.\")\n",
    "        else:\n",
    "            print(f\"{self.title} is already checked in.\")\n",
    "\n",
    "    def is_available(self):\n",
    "        return self.available\n"
   ]
  },
  {
   "cell_type": "code",
   "execution_count": 3,
   "metadata": {},
   "outputs": [],
   "source": [
    "book1 = Book(\"The Catcher in the Rye\", \"J.D. Salinger\", \"978-0316769488\")\n",
    "book2 = Book(\"To Kill a Mockingbird\", \"Harper Lee\", \"978-0061120084\")"
   ]
  },
  {
   "cell_type": "code",
   "execution_count": 4,
   "metadata": {},
   "outputs": [
    {
     "name": "stdout",
     "output_type": "stream",
     "text": [
      "The Catcher in the Rye by J.D. Salinger has been checked out.\n",
      "The Catcher in the Rye by J.D. Salinger has been checked in.\n",
      "To Kill a Mockingbird by Harper Lee has been checked out.\n"
     ]
    }
   ],
   "source": [
    "book1.check_out()\n",
    "book1.check_in()\n",
    "book2.check_out()"
   ]
  },
  {
   "cell_type": "code",
   "execution_count": 5,
   "metadata": {},
   "outputs": [
    {
     "name": "stdout",
     "output_type": "stream",
     "text": [
      "Is The Catcher in the Rye available? True\n",
      "Is To Kill a Mockingbird available? False\n"
     ]
    }
   ],
   "source": [
    "print(f\"Is {book1.title} available? {book1.is_available()}\")\n",
    "print(f\"Is {book2.title} available? {book2.is_available()}\")"
   ]
  },
  {
   "cell_type": "code",
   "execution_count": null,
   "metadata": {},
   "outputs": [],
   "source": []
  }
 ],
 "metadata": {
  "kernelspec": {
   "display_name": "python-6rzFD8bX",
   "language": "python",
   "name": "python3"
  },
  "language_info": {
   "codemirror_mode": {
    "name": "ipython",
    "version": 3
   },
   "file_extension": ".py",
   "mimetype": "text/x-python",
   "name": "python",
   "nbconvert_exporter": "python",
   "pygments_lexer": "ipython3",
   "version": "3.10.12"
  },
  "orig_nbformat": 4
 },
 "nbformat": 4,
 "nbformat_minor": 2
}
