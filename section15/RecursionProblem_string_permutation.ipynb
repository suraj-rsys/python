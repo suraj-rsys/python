{
 "cells": [
  {
   "cell_type": "markdown",
   "metadata": {},
   "source": [
    "# Recursive permutations"
   ]
  },
  {
   "cell_type": "code",
   "execution_count": 16,
   "metadata": {},
   "outputs": [
    {
     "name": "stdout",
     "output_type": "stream",
     "text": [
      "<itertools.permutations object at 0x7ffac8fceac0>\n"
     ]
    }
   ],
   "source": [
    "import itertools\n",
    "s = \"abc\"\n",
    "permutations_list = itertools.permutations(s)\n",
    "print(permutations_list)\n"
   ]
  },
  {
   "cell_type": "code",
   "execution_count": 17,
   "metadata": {},
   "outputs": [],
   "source": [
    "def permute(s):\n",
    "    out = []\n",
    "    if len(s) == 1:\n",
    "        out = [s]\n",
    "    else:\n",
    "        for i, let in enumerate(s):\n",
    "            for perm in permute(s[:i] + s[i+1:]):\n",
    "                out += [let+perm]\n",
    "    return out\n"
   ]
  },
  {
   "cell_type": "code",
   "execution_count": 18,
   "metadata": {},
   "outputs": [
    {
     "data": {
      "text/plain": [
       "['abc', 'acb', 'bac', 'bca', 'cab', 'cba']"
      ]
     },
     "execution_count": 18,
     "metadata": {},
     "output_type": "execute_result"
    }
   ],
   "source": [
    "permute(\"abc\")"
   ]
  },
  {
   "cell_type": "code",
   "execution_count": 20,
   "metadata": {},
   "outputs": [
    {
     "name": "stdout",
     "output_type": "stream",
     "text": [
      "['xyz', 'xzy', 'yxz', 'yzx', 'zxy', 'zyx']\n"
     ]
    }
   ],
   "source": [
    "def permute1(s):\n",
    "    out = []\n",
    "    if len(s) == 1:\n",
    "        out = [s]\n",
    "    else:\n",
    "        for i, let in enumerate(s):\n",
    "            for perm in permute1(s[:i] + s[i+1:]):\n",
    "                out += [let+perm]\n",
    "\n",
    "    return out\n",
    "\n",
    "print(permute1(\"xyz\"))"
   ]
  },
  {
   "cell_type": "code",
   "execution_count": 21,
   "metadata": {},
   "outputs": [
    {
     "name": "stdout",
     "output_type": "stream",
     "text": [
      "['mno', 'mon', 'nmo', 'nom', 'omn', 'onm']\n"
     ]
    }
   ],
   "source": [
    "def permute2(s):\n",
    "    out = []\n",
    "    if len(s) == 1:\n",
    "        out = [s]\n",
    "    else:\n",
    "        for i, let in enumerate(s):\n",
    "            for perm in permute2(s[:i] + s[i+1:]):\n",
    "                out += [let+perm]\n",
    "    return out\n",
    "\n",
    "print(permute2(\"mno\"))"
   ]
  },
  {
   "cell_type": "code",
   "execution_count": 22,
   "metadata": {},
   "outputs": [
    {
     "name": "stdout",
     "output_type": "stream",
     "text": [
      "['pqr', 'prq', 'qpr', 'qrp', 'rpq', 'rqp']\n"
     ]
    }
   ],
   "source": [
    "def permute3(s):\n",
    "    out = []\n",
    "    if len(s) == 1:\n",
    "        out = [s]\n",
    "    else:\n",
    "        for i, let in enumerate(s):\n",
    "            for perm in permute3(s[:i] + s[i+1:]):\n",
    "                out += [let+perm]\n",
    "\n",
    "    return out\n",
    "\n",
    "print(permute3(\"pqr\"))"
   ]
  },
  {
   "cell_type": "code",
   "execution_count": null,
   "metadata": {},
   "outputs": [],
   "source": []
  }
 ],
 "metadata": {
  "kernelspec": {
   "display_name": "python-6rzFD8bX",
   "language": "python",
   "name": "python3"
  },
  "language_info": {
   "codemirror_mode": {
    "name": "ipython",
    "version": 3
   },
   "file_extension": ".py",
   "mimetype": "text/x-python",
   "name": "python",
   "nbconvert_exporter": "python",
   "pygments_lexer": "ipython3",
   "version": "3.10.6"
  },
  "orig_nbformat": 4
 },
 "nbformat": 4,
 "nbformat_minor": 2
}
