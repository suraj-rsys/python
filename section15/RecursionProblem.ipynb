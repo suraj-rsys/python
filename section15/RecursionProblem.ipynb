{
 "cells": [
  {
   "cell_type": "code",
   "execution_count": 3,
   "metadata": {},
   "outputs": [
    {
     "name": "stdout",
     "output_type": "stream",
     "text": [
      "55\n"
     ]
    }
   ],
   "source": [
    "def rec_sum(n):\n",
    "    \n",
    "    if n == 0:\n",
    "        return 0\n",
    "    else:\n",
    "        return n + rec_sum(n-1)\n",
    "print(rec_sum(10))"
   ]
  },
  {
   "cell_type": "code",
   "execution_count": 7,
   "metadata": {},
   "outputs": [
    {
     "name": "stdout",
     "output_type": "stream",
     "text": [
      "10\n"
     ]
    }
   ],
   "source": [
    "def sum_func(n):\n",
    "\n",
    "    if len(str(n)) == 1:\n",
    "        return n\n",
    "    else:\n",
    "        return n%10 + sum_func(n//10)\n",
    "    \n",
    "print(sum_func(4321))\n"
   ]
  },
  {
   "cell_type": "code",
   "execution_count": 10,
   "metadata": {},
   "outputs": [
    {
     "name": "stdout",
     "output_type": "stream",
     "text": [
      "['the', 'man', 'ran']\n"
     ]
    }
   ],
   "source": [
    "def word_split(phrase, list_of_words, output=None):\n",
    "\n",
    "    if output is None:\n",
    "        output = []\n",
    "    \n",
    "    for word in list_of_words:\n",
    "        if phrase.startswith(word):\n",
    "            output.append(word)\n",
    "            return word_split(phrase[len(word):], list_of_words, output)\n",
    "    return output\n",
    "\n",
    "phrase = \"themanran\"\n",
    "list_of_words = ['the', 'ran', 'man']\n",
    "print(word_split(phrase, list_of_words))"
   ]
  },
  {
   "cell_type": "code",
   "execution_count": null,
   "metadata": {},
   "outputs": [],
   "source": []
  }
 ],
 "metadata": {
  "kernelspec": {
   "display_name": "python-DSA-mknt-fiq",
   "language": "python",
   "name": "python3"
  },
  "language_info": {
   "codemirror_mode": {
    "name": "ipython",
    "version": 3
   },
   "file_extension": ".py",
   "mimetype": "text/x-python",
   "name": "python",
   "nbconvert_exporter": "python",
   "pygments_lexer": "ipython3",
   "version": "3.10.6"
  },
  "orig_nbformat": 4
 },
 "nbformat": 4,
 "nbformat_minor": 2
}
