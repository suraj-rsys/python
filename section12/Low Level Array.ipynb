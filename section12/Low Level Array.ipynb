{
 "cells": [
  {
   "cell_type": "markdown",
   "metadata": {},
   "source": [
    "# Deep copy/ Shallow copy\n",
    "- When you create a copy of any variable you make the shallow copy of it.\n",
    "- that means you jsut referencing to the old value and not actually creating a new list"
   ]
  },
  {
   "cell_type": "code",
   "execution_count": 4,
   "metadata": {},
   "outputs": [
    {
     "name": "stdout",
     "output_type": "stream",
     "text": [
      "[1, 2, 3, 5, 7, 9, 11, 13, 17]\n",
      "[5, 7, 9]\n",
      "2701926859184\n"
     ]
    }
   ],
   "source": [
    "primes = [1,2,3,5,7,9,11,13,17]\n",
    "temp = primes[3:6]\n",
    "print(primes)\n",
    "print(temp)\n",
    "print(id(primes[4]))"
   ]
  },
  {
   "cell_type": "code",
   "execution_count": 5,
   "metadata": {},
   "outputs": [
    {
     "name": "stdout",
     "output_type": "stream",
     "text": [
      "2701926859184\n"
     ]
    }
   ],
   "source": [
    "print(id(temp[1]))"
   ]
  },
  {
   "cell_type": "code",
   "execution_count": 16,
   "metadata": {},
   "outputs": [
    {
     "name": "stdout",
     "output_type": "stream",
     "text": [
      "[0, 0, 0, 0, 0, 0, 0, 0]\n",
      "address of index 0 is 2701926858960\n",
      "address of index 1 is 2701926858960\n",
      "address of index 2 is 2701926858960\n",
      "address of index 3 is 2701926858960\n",
      "address of index 4 is 2701926858960\n",
      "address of index 5 is 2701926858960\n",
      "address of index 6 is 2701926858960\n",
      "address of index 7 is 2701926858960\n"
     ]
    }
   ],
   "source": [
    "# This is creating a list of 8 items but all the 8 indexes reference to the same object (single address)\n",
    "counters = [0]*8\n",
    "print(counters)\n",
    "for i in range(len(counters)):\n",
    "    print(\"address of index\",i, \"is\", id(counters[i]))"
   ]
  },
  {
   "cell_type": "markdown",
   "metadata": {},
   "source": [
    "- If you change value of any element it will create a new object and reference to it.\n",
    "- It does not change the value of existing instance."
   ]
  },
  {
   "cell_type": "code",
   "execution_count": 18,
   "metadata": {},
   "outputs": [
    {
     "name": "stdout",
     "output_type": "stream",
     "text": [
      "address of index 0 is 2701926858960\n",
      "address of index 1 is 2701926858960\n",
      "address of index 2 is 2701926859024\n",
      "address of index 3 is 2701926858960\n",
      "address of index 4 is 2701926858960\n",
      "address of index 5 is 2701926858960\n",
      "address of index 6 is 2701926858960\n",
      "address of index 7 is 2701926858960\n"
     ]
    }
   ],
   "source": [
    "counters[2] += 1\n",
    "for i in range(len(counters)):\n",
    "    print(\"address of index\",i, \"is\", id(counters[i]))"
   ]
  },
  {
   "cell_type": "markdown",
   "metadata": {},
   "source": [
    "#### Extending a list"
   ]
  },
  {
   "cell_type": "code",
   "execution_count": 19,
   "metadata": {},
   "outputs": [
    {
     "data": {
      "text/plain": [
       "[1, 2, 3, 5, 7, 9, 11, 13, 17]"
      ]
     },
     "execution_count": 19,
     "metadata": {},
     "output_type": "execute_result"
    }
   ],
   "source": [
    "primes"
   ]
  },
  {
   "cell_type": "code",
   "execution_count": 20,
   "metadata": {},
   "outputs": [
    {
     "name": "stdout",
     "output_type": "stream",
     "text": [
      "[1, 2, 3, 5, 7, 9, 11, 13, 17, 19, 23, 29]\n"
     ]
    }
   ],
   "source": [
    "extra = [19,23,29]\n",
    "primes.extend(extra)\n",
    "print(primes)"
   ]
  },
  {
   "cell_type": "markdown",
   "metadata": {},
   "source": [
    "- Extending a list does not add new objects to the list (prime) but add references to the address of list that is being extended (extra)"
   ]
  },
  {
   "cell_type": "code",
   "execution_count": 21,
   "metadata": {},
   "outputs": [
    {
     "name": "stdout",
     "output_type": "stream",
     "text": [
      "2701926859568\n",
      "2701926859696\n",
      "2701926859888\n"
     ]
    }
   ],
   "source": [
    "for i in extra:\n",
    "    print(id(i))"
   ]
  },
  {
   "cell_type": "code",
   "execution_count": 22,
   "metadata": {},
   "outputs": [
    {
     "name": "stdout",
     "output_type": "stream",
     "text": [
      "2701926858992\n",
      "2701926859024\n",
      "2701926859056\n",
      "2701926859120\n",
      "2701926859184\n",
      "2701926859248\n",
      "2701926859312\n",
      "2701926859376\n",
      "2701926859504\n",
      "2701926859568\n",
      "2701926859696\n",
      "2701926859888\n"
     ]
    }
   ],
   "source": [
    "for i in primes:\n",
    "    print(id(i))"
   ]
  },
  {
   "cell_type": "markdown",
   "metadata": {},
   "source": [
    "- In the above 2 cell you can see that the last 3 objects of the prime list has same address as the address of objects in the extra list."
   ]
  },
  {
   "cell_type": "code",
   "execution_count": null,
   "metadata": {},
   "outputs": [],
   "source": []
  }
 ],
 "metadata": {
  "kernelspec": {
   "display_name": "Python 3.10.0 64-bit",
   "language": "python",
   "name": "python3"
  },
  "language_info": {
   "codemirror_mode": {
    "name": "ipython",
    "version": 3
   },
   "file_extension": ".py",
   "mimetype": "text/x-python",
   "name": "python",
   "nbconvert_exporter": "python",
   "pygments_lexer": "ipython3",
   "version": "3.10.0"
  },
  "orig_nbformat": 4,
  "vscode": {
   "interpreter": {
    "hash": "d11db22dd638d5361905c4c7479ebb9b8930bcbb4e2af554b3882238b7e6e7aa"
   }
  }
 },
 "nbformat": 4,
 "nbformat_minor": 2
}
