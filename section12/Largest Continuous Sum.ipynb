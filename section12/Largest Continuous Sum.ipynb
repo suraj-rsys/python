{
 "cells": [
  {
   "cell_type": "markdown",
   "metadata": {},
   "source": [
    "# Largest Continuous Sum"
   ]
  },
  {
   "cell_type": "code",
   "execution_count": 2,
   "metadata": {},
   "outputs": [
    {
     "data": {
      "text/plain": [
       "29"
      ]
     },
     "execution_count": 2,
     "metadata": {},
     "output_type": "execute_result"
    }
   ],
   "source": [
    "def large_cont_sum(arr):\n",
    "    if len(arr)==0:\n",
    "        return None\n",
    "    \n",
    "    max_sum = current_sum = arr[0]\n",
    "\n",
    "    for num in arr[1:]:\n",
    "        current_sum = max(current_sum+num, num)\n",
    "        max_sum = max(current_sum, max_sum)\n",
    "    return max_sum\n",
    "\n",
    "\n",
    "arr=[1,2,-1,3,4,10,10,-10,-1]\n",
    "large_cont_sum(arr)"
   ]
  },
  {
   "cell_type": "code",
   "execution_count": 7,
   "metadata": {},
   "outputs": [
    {
     "data": {
      "text/plain": [
       "29"
      ]
     },
     "execution_count": 7,
     "metadata": {},
     "output_type": "execute_result"
    }
   ],
   "source": [
    "def large_cont(arr):\n",
    "    if len(arr) == 0:\n",
    "        return 0\n",
    "\n",
    "    max_sum = current_sum = arr[0]\n",
    "    for num in arr[1:]:\n",
    "        current_sum = max(current_sum+num, num)\n",
    "        max_sum = max(current_sum, max_sum)\n",
    "    return max_sum\n",
    "\n",
    "arr=[1,2,-1,3,4,10,10,-10,-1]\n",
    "large_cont(arr)"
   ]
  },
  {
   "cell_type": "code",
   "execution_count": null,
   "metadata": {},
   "outputs": [],
   "source": []
  }
 ],
 "metadata": {
  "kernelspec": {
   "display_name": "Python 3.10.0 64-bit",
   "language": "python",
   "name": "python3"
  },
  "language_info": {
   "codemirror_mode": {
    "name": "ipython",
    "version": 3
   },
   "file_extension": ".py",
   "mimetype": "text/x-python",
   "name": "python",
   "nbconvert_exporter": "python",
   "pygments_lexer": "ipython3",
   "version": "3.10.0"
  },
  "orig_nbformat": 4,
  "vscode": {
   "interpreter": {
    "hash": "d11db22dd638d5361905c4c7479ebb9b8930bcbb4e2af554b3882238b7e6e7aa"
   }
  }
 },
 "nbformat": 4,
 "nbformat_minor": 2
}
