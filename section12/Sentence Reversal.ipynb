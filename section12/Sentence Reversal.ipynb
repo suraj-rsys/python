{
 "cells": [
  {
   "cell_type": "markdown",
   "metadata": {},
   "source": [
    "# Sentence Reversal"
   ]
  },
  {
   "cell_type": "code",
   "execution_count": 26,
   "metadata": {},
   "outputs": [
    {
     "data": {
      "text/plain": [
       "'    best the is this'"
      ]
     },
     "execution_count": 26,
     "metadata": {},
     "output_type": "execute_result"
    }
   ],
   "source": [
    "# my solution\n",
    "def sentence(s):\n",
    "    # s = string.split(\" \")\n",
    "    result = []\n",
    "    for i in range(len(s)-1,-1,-1):\n",
    "        \n",
    "        result.append(s[i])\n",
    "    return \" \".join(result)\n",
    "\n",
    "string = \"this is the best    \"\n",
    "sentence(string)"
   ]
  },
  {
   "cell_type": "markdown",
   "metadata": {},
   "source": [
    "# Short Methods using python"
   ]
  },
  {
   "cell_type": "code",
   "execution_count": 8,
   "metadata": {},
   "outputs": [
    {
     "data": {
      "text/plain": [
       "'this is the best'"
      ]
     },
     "execution_count": 8,
     "metadata": {},
     "output_type": "execute_result"
    }
   ],
   "source": [
    "def rev_word1(s):\n",
    "    return \" \".join(reversed(s.split()))\n",
    "\n",
    "s = \"this is the best    \"\n",
    "rev_word1(s) \n"
   ]
  },
  {
   "cell_type": "code",
   "execution_count": 13,
   "metadata": {},
   "outputs": [
    {
     "data": {
      "text/plain": [
       "'best the is this'"
      ]
     },
     "execution_count": 13,
     "metadata": {},
     "output_type": "execute_result"
    }
   ],
   "source": [
    "def rev_word2(s):\n",
    "    return \" \".join(s.split()[::-1])\n",
    "\n",
    "s = \"this is the best    \"\n",
    "rev_word2(s)"
   ]
  },
  {
   "cell_type": "code",
   "execution_count": 6,
   "metadata": {},
   "outputs": [
    {
     "data": {
      "text/plain": [
       "'NOT OK'"
      ]
     },
     "execution_count": 6,
     "metadata": {},
     "output_type": "execute_result"
    }
   ],
   "source": [
    "l = [\"NOT\", \"OK\"]\n",
    "\" \".join(l)"
   ]
  },
  {
   "cell_type": "markdown",
   "metadata": {},
   "source": [
    "# Manual Method"
   ]
  },
  {
   "cell_type": "code",
   "execution_count": 20,
   "metadata": {},
   "outputs": [
    {
     "data": {
      "text/plain": [
       "'best the is this'"
      ]
     },
     "execution_count": 20,
     "metadata": {},
     "output_type": "execute_result"
    }
   ],
   "source": [
    "def rev_word(s):\n",
    "    words = []\n",
    "    length = len(s)\n",
    "    # space = [' ']\n",
    "    i = 0\n",
    "    while i < length:\n",
    "        if s[i] != \" \":\n",
    "            word_start = i\n",
    "            while i < length and s[i] != \" \":\n",
    "                i+=1\n",
    "            words.append(s[word_start:i])\n",
    "            \n",
    "        i += 1\n",
    "    return \" \".join(words[::-1])\n",
    "\n",
    "s = \"this is the best    \"\n",
    "rev_word(s)"
   ]
  },
  {
   "cell_type": "code",
   "execution_count": 21,
   "metadata": {},
   "outputs": [
    {
     "data": {
      "text/plain": [
       "'best the is this'"
      ]
     },
     "execution_count": 21,
     "metadata": {},
     "output_type": "execute_result"
    }
   ],
   "source": [
    "def rev_word3(s):\n",
    "    word = []\n",
    "    i = 0\n",
    "    while i < len(s):\n",
    "        if s[i] != \" \":\n",
    "            word_start = i\n",
    "            \n",
    "            while i < len(s) and s[i] != \" \":\n",
    "                i += 1\n",
    "            word.append(s[word_start:i])\n",
    "        i += 1\n",
    "    return \" \".join(word[::-1])\n",
    "\n",
    "s = \"this is the    best\"\n",
    "rev_word3(s)"
   ]
  },
  {
   "cell_type": "code",
   "execution_count": null,
   "metadata": {},
   "outputs": [],
   "source": []
  }
 ],
 "metadata": {
  "kernelspec": {
   "display_name": "Python 3.10.0 64-bit",
   "language": "python",
   "name": "python3"
  },
  "language_info": {
   "codemirror_mode": {
    "name": "ipython",
    "version": 3
   },
   "file_extension": ".py",
   "mimetype": "text/x-python",
   "name": "python",
   "nbconvert_exporter": "python",
   "pygments_lexer": "ipython3",
   "version": "3.10.0"
  },
  "orig_nbformat": 4,
  "vscode": {
   "interpreter": {
    "hash": "d11db22dd638d5361905c4c7479ebb9b8930bcbb4e2af554b3882238b7e6e7aa"
   }
  }
 },
 "nbformat": 4,
 "nbformat_minor": 2
}
