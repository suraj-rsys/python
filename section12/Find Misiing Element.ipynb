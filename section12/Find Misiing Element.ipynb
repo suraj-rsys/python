{
 "cells": [
  {
   "cell_type": "markdown",
   "metadata": {},
   "source": [
    "# Find Missing Element"
   ]
  },
  {
   "cell_type": "code",
   "execution_count": 8,
   "metadata": {},
   "outputs": [
    {
     "data": {
      "text/plain": [
       "5"
      ]
     },
     "execution_count": 8,
     "metadata": {},
     "output_type": "execute_result"
    }
   ],
   "source": [
    "def finder(arr1, arr2):\n",
    "    arr1.sort()\n",
    "    arr2.sort()\n",
    "\n",
    "    for num1 , num2 in zip(arr1, arr2):\n",
    "        if num1 != num2:\n",
    "            # print(num1)\n",
    "            return num1\n",
    "    # print(arr1[-1])\n",
    "    return arr1[-1]\n",
    "\n",
    "\n",
    "# arr1 = [1,2,3,4,5,6,7]\n",
    "# arr2 = [3,7,2,1,4,6]\n",
    "arr1 = [5,5,7,7]\n",
    "arr2 = [5,7,7]\n",
    "finder(arr1, arr2)"
   ]
  },
  {
   "cell_type": "markdown",
   "metadata": {},
   "source": [
    "# Python Collections\n",
    "- If the key is not already in the dictionary then it will add it automatially"
   ]
  },
  {
   "cell_type": "code",
   "execution_count": 17,
   "metadata": {},
   "outputs": [
    {
     "data": {
      "text/plain": [
       "5"
      ]
     },
     "execution_count": 17,
     "metadata": {},
     "output_type": "execute_result"
    }
   ],
   "source": [
    "import collections\n",
    "def finder2(arr1, arr2):\n",
    "\n",
    "    d = collections.defaultdict(int) # A dictionary of integers\n",
    "\n",
    "    for num in arr2: # count the accurane of num(keys) in arr2\n",
    "        d[num] += 1\n",
    "    \n",
    "    for num in arr1: # then check the occurance on arr1\n",
    "        if d[num] == 0: # and if count is 0 that means we never counted it.\n",
    "            return num\n",
    "\n",
    "        else:\n",
    "            d[num] -= 1\n",
    "\n",
    "finder2(arr1, arr2)"
   ]
  },
  {
   "cell_type": "markdown",
   "metadata": {},
   "source": [
    "# XOR method\n",
    "\n",
    "- return true if both values are different"
   ]
  },
  {
   "cell_type": "code",
   "execution_count": 58,
   "metadata": {},
   "outputs": [
    {
     "data": {
      "text/plain": [
       "5"
      ]
     },
     "execution_count": 58,
     "metadata": {},
     "output_type": "execute_result"
    }
   ],
   "source": [
    "\n",
    "def finder3(arr1, arr2):\n",
    "    result = 0\n",
    "\n",
    "    for num in arr1+arr2:\n",
    "        result ^= num\n",
    "    return result\n",
    "\n",
    "arr1 = [1,2,3,4,5,6,7]\n",
    "arr2 = [3,7,2,1,4,6]\n",
    "finder3(arr1, arr2)\n"
   ]
  },
  {
   "cell_type": "code",
   "execution_count": 14,
   "metadata": {},
   "outputs": [
    {
     "name": "stdout",
     "output_type": "stream",
     "text": [
      "<zip object at 0x0000010FDE330E40>\n"
     ]
    }
   ],
   "source": []
  },
  {
   "cell_type": "code",
   "execution_count": 18,
   "metadata": {},
   "outputs": [
    {
     "data": {
      "text/plain": [
       "[1, 2, 3, 4, 5, 6, 7, 3, 7, 2, 1, 4, 6]"
      ]
     },
     "execution_count": 18,
     "metadata": {},
     "output_type": "execute_result"
    }
   ],
   "source": [
    "arr1 = [1,2,3,4,5,6,7]\n",
    "arr2 = [3,7,2,1,4,6]\n",
    "arr1+arr2"
   ]
  },
  {
   "cell_type": "markdown",
   "metadata": {},
   "source": [
    "# Key value method\n",
    "- if arr1[i] is present in arr2 then make the number as key of the dictionary and its count as the value"
   ]
  },
  {
   "cell_type": "code",
   "execution_count": 57,
   "metadata": {},
   "outputs": [
    {
     "name": "stdout",
     "output_type": "stream",
     "text": [
      "5\n"
     ]
    }
   ],
   "source": [
    "def finder3(arr1, arr2):\n",
    "    data_dict = {}\n",
    "    for i in arr2:\n",
    "        if i not in data_dict:\n",
    "            # print(i)\n",
    "            data_dict[i] = 1\n",
    "        else:\n",
    "            data_dict[i] += 1\n",
    "\n",
    "    # print(data_dict)\n",
    "\n",
    "    for i in arr1:\n",
    "        if i not in data_dict:\n",
    "            print(i)\n",
    "    \n",
    "\n",
    "arr1 = [1,2,3,4,5,6,7]\n",
    "arr2 = [3,7,2,1,4,6]\n",
    "finder3(arr1, arr2)"
   ]
  },
  {
   "cell_type": "markdown",
   "metadata": {},
   "source": [
    "# XOR"
   ]
  },
  {
   "cell_type": "code",
   "execution_count": 75,
   "metadata": {},
   "outputs": [
    {
     "name": "stdout",
     "output_type": "stream",
     "text": [
      "5\n"
     ]
    }
   ],
   "source": [
    "arr1 = [1,2,3,4,5,6,7]\n",
    "arr2 = [3,7,2,1,4,6]\n",
    "\n",
    "r = 3^6\n",
    "print(r)"
   ]
  },
  {
   "cell_type": "code",
   "execution_count": null,
   "metadata": {},
   "outputs": [],
   "source": [
    "0 0 0 1\n",
    "0 1 0 0\n",
    "0 1 0 1\n",
    "\n",
    "\n",
    "0 0 1 1\n",
    "0 1 1 0\n",
    "0 1 0 1"
   ]
  }
 ],
 "metadata": {
  "kernelspec": {
   "display_name": "Python 3.10.4 64-bit",
   "language": "python",
   "name": "python3"
  },
  "language_info": {
   "codemirror_mode": {
    "name": "ipython",
    "version": 3
   },
   "file_extension": ".py",
   "mimetype": "text/x-python",
   "name": "python",
   "nbconvert_exporter": "python",
   "pygments_lexer": "ipython3",
   "version": "3.10.4"
  },
  "orig_nbformat": 4,
  "vscode": {
   "interpreter": {
    "hash": "d11db22dd638d5361905c4c7479ebb9b8930bcbb4e2af554b3882238b7e6e7aa"
   }
  }
 },
 "nbformat": 4,
 "nbformat_minor": 2
}
