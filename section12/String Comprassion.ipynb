{
 "cells": [
  {
   "cell_type": "markdown",
   "metadata": {},
   "source": [
    "# String Comprassion"
   ]
  },
  {
   "cell_type": "markdown",
   "metadata": {},
   "source": [
    "### My solution\n",
    "- O(n^2)"
   ]
  },
  {
   "cell_type": "code",
   "execution_count": 30,
   "metadata": {},
   "outputs": [
    {
     "data": {
      "text/plain": [
       "'A3aB4C5'"
      ]
     },
     "execution_count": 30,
     "metadata": {},
     "output_type": "execute_result"
    }
   ],
   "source": [
    "def compress(s):\n",
    "\n",
    "    d = {}\n",
    "    l = list(s)\n",
    "    r = \"\"\n",
    "    for i in range(len(l)):\n",
    "        if l[i] not in d:\n",
    "            d[l[i]] = 1\n",
    "        else:\n",
    "            d[l[i]] += 1\n",
    "\n",
    "\n",
    "    for i,j in d.items():\n",
    "        if j > 1:\n",
    "            r = r+str(i)+str(j)\n",
    "        else:\n",
    "            r = r+str(i)\n",
    "\n",
    "    return r\n",
    "\n",
    "s = \"AAAaBBBBCCCCC\"\n",
    "compress(s)"
   ]
  },
  {
   "cell_type": "markdown",
   "metadata": {},
   "source": [
    "### below solution will count from start if the same alphabet comes later.\n",
    "- If \"AABBBCCCCAA\" - then it give **\"A2B3C4A2\"**"
   ]
  },
  {
   "cell_type": "code",
   "execution_count": 38,
   "metadata": {},
   "outputs": [
    {
     "data": {
      "text/plain": [
       "'A1B3C1A2'"
      ]
     },
     "execution_count": 38,
     "metadata": {},
     "output_type": "execute_result"
    }
   ],
   "source": [
    "def compress1(s):\n",
    "    r = \"\"\n",
    "    l = len(s)\n",
    "\n",
    "    if l == 0:\n",
    "        return \"\"\n",
    "    \n",
    "    if l == 1:\n",
    "        return s+\"1\"\n",
    "    \n",
    "    last = s[0]\n",
    "    cnt = 0\n",
    "    i=1\n",
    "\n",
    "    while i < l:\n",
    "        if s[i] == s[i-1]:\n",
    "            cnt += 1\n",
    "\n",
    "        else:\n",
    "            r = r+s[i-1]+str(cnt)\n",
    "            cnt = 1\n",
    "        i += 1\n",
    "\n",
    "    r = r + s[i-1] + str(cnt)\n",
    "    return r\n",
    "\n",
    "compress1(\"AABBBCAA\")"
   ]
  },
  {
   "cell_type": "code",
   "execution_count": null,
   "metadata": {},
   "outputs": [],
   "source": []
  }
 ],
 "metadata": {
  "kernelspec": {
   "display_name": "Python 3.10.0 64-bit",
   "language": "python",
   "name": "python3"
  },
  "language_info": {
   "codemirror_mode": {
    "name": "ipython",
    "version": 3
   },
   "file_extension": ".py",
   "mimetype": "text/x-python",
   "name": "python",
   "nbconvert_exporter": "python",
   "pygments_lexer": "ipython3",
   "version": "3.10.0"
  },
  "orig_nbformat": 4,
  "vscode": {
   "interpreter": {
    "hash": "d11db22dd638d5361905c4c7479ebb9b8930bcbb4e2af554b3882238b7e6e7aa"
   }
  }
 },
 "nbformat": 4,
 "nbformat_minor": 2
}
