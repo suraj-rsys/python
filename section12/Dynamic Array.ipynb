{
 "cells": [
  {
   "cell_type": "markdown",
   "metadata": {},
   "source": [
    "# Dynamic Array"
   ]
  },
  {
   "cell_type": "code",
   "execution_count": 2,
   "metadata": {},
   "outputs": [
    {
     "name": "stdout",
     "output_type": "stream",
     "text": [
      "lenght  0 56\n",
      "lenght  1 88\n",
      "lenght  2 88\n",
      "lenght  3 88\n",
      "lenght  4 88\n",
      "lenght  5 120\n",
      "lenght  6 120\n",
      "lenght  7 120\n",
      "lenght  8 120\n",
      "lenght  9 184\n",
      "lenght  10 184\n",
      "lenght  11 184\n",
      "lenght  12 184\n",
      "lenght  13 184\n",
      "lenght  14 184\n",
      "lenght  15 184\n",
      "lenght  16 184\n",
      "lenght  17 248\n",
      "lenght  18 248\n",
      "lenght  19 248\n",
      "lenght  20 248\n",
      "lenght  21 248\n",
      "lenght  22 248\n",
      "lenght  23 248\n",
      "lenght  24 248\n",
      "lenght  25 312\n",
      "lenght  26 312\n",
      "lenght  27 312\n",
      "lenght  28 312\n",
      "lenght  29 312\n",
      "lenght  30 312\n",
      "lenght  31 312\n",
      "lenght  32 312\n",
      "lenght  33 376\n",
      "lenght  34 376\n",
      "lenght  35 376\n",
      "lenght  36 376\n",
      "lenght  37 376\n",
      "lenght  38 376\n",
      "lenght  39 376\n",
      "lenght  40 376\n",
      "lenght  41 472\n",
      "lenght  42 472\n",
      "lenght  43 472\n",
      "lenght  44 472\n",
      "lenght  45 472\n",
      "lenght  46 472\n",
      "lenght  47 472\n",
      "lenght  48 472\n",
      "lenght  49 472\n"
     ]
    }
   ],
   "source": [
    "import sys\n",
    "\n",
    "n = 50\n",
    "\n",
    "data = []\n",
    "\n",
    "for i in range(n):\n",
    "    a = len(data)\n",
    "    b = sys.getsizeof(data)\n",
    "    print(\"lenght \", a, b)\n",
    "    data.append(n)"
   ]
  },
  {
   "cell_type": "markdown",
   "metadata": {},
   "source": [
    "# Dynamic Array Implementation"
   ]
  },
  {
   "cell_type": "code",
   "execution_count": 20,
   "metadata": {},
   "outputs": [],
   "source": [
    "# import ctypes\n",
    "\n",
    "\n",
    "# class DynamicArray(object):\n",
    "    \n",
    "#     def __init__(self):\n",
    "#         self.n = 0\n",
    "#         self.capacity = 1\n",
    "#         self.A = self.make_array(self.capacity)\n",
    "\n",
    "#     def __len__(self):\n",
    "#         return self.n\n",
    "\n",
    "#     def __getitem__(self, k):\n",
    "\n",
    "#         if not 0 <= k < self.n:\n",
    "#             return IndexError('K is out of bound!')\n",
    "\n",
    "#         return self.A[k]\n",
    "\n",
    "#     def append(self, ele):\n",
    "        \n",
    "#         if self.n == self.capacity:\n",
    "#             self._resize(2*self.capacity)\n",
    "\n",
    "#         self.A[self.n] = ele\n",
    "#         self.n += 1\n",
    "\n",
    "#     def _resize(self, new_cap):\n",
    "        \n",
    "#         B = self.make_array(new_cap)\n",
    "\n",
    "#         for k in range(self.n):\n",
    "#             B[k] = self.A[k]\n",
    "\n",
    "#         self.A = B\n",
    "#         self.capacity = new_cap\n",
    "\n",
    "#     def make_array(self, new_cap):\n",
    "#         return (new_cap * ctypes.py_object)()\n",
    "# arr = DynamicArray()"
   ]
  },
  {
   "cell_type": "code",
   "execution_count": 28,
   "metadata": {},
   "outputs": [],
   "source": [
    "import ctypes\n",
    "\n",
    "\n",
    "class DynamicArray(object):\n",
    "\n",
    "    def __init__(self):\n",
    "        self.n = 0\n",
    "        self.capacity = 1\n",
    "        self.A = self.make_array(self.capacity)\n",
    "\n",
    "    def __len__(self):\n",
    "        return self.n\n",
    "\n",
    "    def __getitem__(self, k):\n",
    "        if not 0 <= k < self.n:\n",
    "            return IndexError('k out of bound')\n",
    "        return self.A\n",
    "\n",
    "    def append(self, ele):\n",
    "        if self.n == self.capacity:\n",
    "            self._resize(2*self.capacity)\n",
    "        self.A[self.n] = ele\n",
    "        self.n += 1\n",
    "\n",
    "    def _resize(self, cap):\n",
    "        B = self.make_array(cap)\n",
    "        for k in range(self.n):\n",
    "            B[k] = self.A[k]\n",
    "\n",
    "        self.A = B\n",
    "        self.capacity = cap\n",
    "        return \n",
    "\n",
    "    def make_array(self, cap):\n",
    "        return (cap * ctypes.py_object)()\n",
    "\n",
    "arr = DynamicArray()"
   ]
  },
  {
   "cell_type": "code",
   "execution_count": 29,
   "metadata": {},
   "outputs": [],
   "source": [
    "arr.append(1)"
   ]
  },
  {
   "cell_type": "code",
   "execution_count": 30,
   "metadata": {},
   "outputs": [
    {
     "data": {
      "text/plain": [
       "1"
      ]
     },
     "execution_count": 30,
     "metadata": {},
     "output_type": "execute_result"
    }
   ],
   "source": [
    "len(arr)"
   ]
  },
  {
   "cell_type": "code",
   "execution_count": 31,
   "metadata": {},
   "outputs": [],
   "source": [
    "arr.append(2)"
   ]
  },
  {
   "cell_type": "code",
   "execution_count": 32,
   "metadata": {},
   "outputs": [
    {
     "data": {
      "text/plain": [
       "2"
      ]
     },
     "execution_count": 32,
     "metadata": {},
     "output_type": "execute_result"
    }
   ],
   "source": [
    "len(arr)"
   ]
  },
  {
   "cell_type": "code",
   "execution_count": null,
   "metadata": {},
   "outputs": [],
   "source": []
  }
 ],
 "metadata": {
  "kernelspec": {
   "display_name": "Python 3.10.0 64-bit",
   "language": "python",
   "name": "python3"
  },
  "language_info": {
   "codemirror_mode": {
    "name": "ipython",
    "version": 3
   },
   "file_extension": ".py",
   "mimetype": "text/x-python",
   "name": "python",
   "nbconvert_exporter": "python",
   "pygments_lexer": "ipython3",
   "version": "3.10.4"
  },
  "orig_nbformat": 4,
  "vscode": {
   "interpreter": {
    "hash": "d11db22dd638d5361905c4c7479ebb9b8930bcbb4e2af554b3882238b7e6e7aa"
   }
  }
 },
 "nbformat": 4,
 "nbformat_minor": 2
}
