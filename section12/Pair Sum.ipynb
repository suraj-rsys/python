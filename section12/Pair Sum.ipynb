{
 "cells": [
  {
   "cell_type": "markdown",
   "metadata": {},
   "source": [
    "# Array Pair Sum\n",
    "- output all the unique pairs that sum up to a specific value k"
   ]
  },
  {
   "cell_type": "code",
   "execution_count": 10,
   "metadata": {},
   "outputs": [
    {
     "name": "stdout",
     "output_type": "stream",
     "text": [
      "{1, 2}\n",
      "None\n"
     ]
    }
   ],
   "source": [
    "# def pair_sum(arr, k):\n",
    "    \n",
    "#     if len(arr)<2:\n",
    "#         return\n",
    "    \n",
    "#     # Sets for trackong\n",
    "#     seen = set()\n",
    "#     output = set()\n",
    "\n",
    "#     for num in arr:\n",
    "#         target = k-num\n",
    "\n",
    "#         if target not in seen:\n",
    "#             seen.add(num)\n",
    "#         else:\n",
    "#             output.add(( min(num, target), max(num, target)))\n",
    "#     # return len(output)\n",
    "#     # print(\"\\n\".join(map(str, list(output))))\n",
    "#     print(seen)\n",
    "\n",
    "# arr = [1,3,2,2]\n",
    "# k = 4\n",
    "# print(pair_sum(arr, k))\n"
   ]
  },
  {
   "cell_type": "code",
   "execution_count": 17,
   "metadata": {},
   "outputs": [
    {
     "name": "stdout",
     "output_type": "stream",
     "text": [
      "(1, 3)\n",
      "(2, 2)\n"
     ]
    }
   ],
   "source": [
    "def pair_sum(arr, k):\n",
    "    if len(arr) < 2:\n",
    "        return\n",
    "\n",
    "    seen = set()\n",
    "    output = set()\n",
    "\n",
    "    for num in arr:\n",
    "        target = k - num\n",
    "        if target not in seen:\n",
    "            seen.add(num)\n",
    "        else:\n",
    "            output.add( (min(num, target), max(num, target)) )\n",
    "    print(\"\\n\".join(map(str, list(output))))\n",
    "    return len()\n",
    "\n",
    "arr = [1,3,2,2]\n",
    "k=4\n",
    "pair_sum(arr, k)"
   ]
  },
  {
   "cell_type": "code",
   "execution_count": null,
   "metadata": {},
   "outputs": [],
   "source": []
  }
 ],
 "metadata": {
  "kernelspec": {
   "display_name": "Python 3.10.4 64-bit",
   "language": "python",
   "name": "python3"
  },
  "language_info": {
   "codemirror_mode": {
    "name": "ipython",
    "version": 3
   },
   "file_extension": ".py",
   "mimetype": "text/x-python",
   "name": "python",
   "nbconvert_exporter": "python",
   "pygments_lexer": "ipython3",
   "version": "3.10.4"
  },
  "orig_nbformat": 4,
  "vscode": {
   "interpreter": {
    "hash": "d11db22dd638d5361905c4c7479ebb9b8930bcbb4e2af554b3882238b7e6e7aa"
   }
  }
 },
 "nbformat": 4,
 "nbformat_minor": 2
}
