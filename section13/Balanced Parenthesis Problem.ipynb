{
 "cells": [
  {
   "cell_type": "markdown",
   "metadata": {},
   "source": [
    "# Balanced Parenthesis"
   ]
  },
  {
   "cell_type": "markdown",
   "metadata": {},
   "source": [
    "#### List method \n",
    "- check length of opened list and closed list"
   ]
  },
  {
   "cell_type": "code",
   "execution_count": 3,
   "metadata": {},
   "outputs": [
    {
     "data": {
      "text/plain": [
       "False"
      ]
     },
     "execution_count": 3,
     "metadata": {},
     "output_type": "execute_result"
    }
   ],
   "source": [
    "def balance(s):\n",
    "    opened = []\n",
    "    closed = []\n",
    "    for i in s:\n",
    "        if i in [\"(\", \"[\", \"{\" ]:\n",
    "            opened.append(i)\n",
    "        else:\n",
    "            closed.append(i)\n",
    "    return len(opened) == len(closed)\n",
    "\n",
    "\n",
    "s = \"()()()(){\"\n",
    "balance(s)"
   ]
  },
  {
   "cell_type": "markdown",
   "metadata": {},
   "source": [
    "### Using Stack"
   ]
  },
  {
   "cell_type": "code",
   "execution_count": 6,
   "metadata": {},
   "outputs": [
    {
     "data": {
      "text/plain": [
       "False"
      ]
     },
     "execution_count": 6,
     "metadata": {},
     "output_type": "execute_result"
    }
   ],
   "source": [
    "def balance_check(s):\n",
    "    \n",
    "    if len(s)%2 != 0:\n",
    "        return False\n",
    "\n",
    "    opening = set('({[')\n",
    "\n",
    "    matches = set([ ('(',')'), ('[',']' ), ('{','}')])\n",
    "\n",
    "    stack = []\n",
    "\n",
    "    for paren in s:\n",
    "        if paren in opening:\n",
    "            stack.append(paren)\n",
    "        else:\n",
    "            if len(stack) == 0:\n",
    "                return False\n",
    "            last_open = stack.pop()\n",
    "\n",
    "            if (last_open, paren) not in matches:\n",
    "                return False \n",
    "\n",
    "    return len(stack) == 0\n",
    "\n",
    "s= \"()()()()(\"\n",
    "balance_check(s)\n"
   ]
  },
  {
   "cell_type": "markdown",
   "metadata": {},
   "source": [
    "#### Stack Like Implementation"
   ]
  },
  {
   "cell_type": "code",
   "execution_count": 19,
   "metadata": {},
   "outputs": [
    {
     "name": "stdout",
     "output_type": "stream",
     "text": [
      "['(']\n",
      "[]\n",
      "['(']\n",
      "[]\n",
      "['(']\n",
      "[]\n",
      "['(']\n",
      "[]\n"
     ]
    },
    {
     "ename": "IndexError",
     "evalue": "pop from empty list",
     "output_type": "error",
     "traceback": [
      "\u001b[1;31m---------------------------------------------------------------------------\u001b[0m",
      "\u001b[1;31mIndexError\u001b[0m                                Traceback (most recent call last)",
      "Cell \u001b[1;32mIn [19], line 14\u001b[0m\n\u001b[0;32m     11\u001b[0m     \u001b[39mreturn\u001b[39;00m \u001b[39mlen\u001b[39m(stack) \u001b[39m==\u001b[39m \u001b[39m0\u001b[39m\n\u001b[0;32m     13\u001b[0m s \u001b[39m=\u001b[39m \u001b[39m\"\u001b[39m\u001b[39m()()()()}\u001b[39m\u001b[39m{\u001b[39m\u001b[39m\"\u001b[39m\n\u001b[1;32m---> 14\u001b[0m balance_stack(s)\n",
      "Cell \u001b[1;32mIn [19], line 9\u001b[0m, in \u001b[0;36mbalance_stack\u001b[1;34m(s)\u001b[0m\n\u001b[0;32m      7\u001b[0m         stack\u001b[39m.\u001b[39mappend(i)\n\u001b[0;32m      8\u001b[0m     \u001b[39melif\u001b[39;00m i \u001b[39min\u001b[39;00m [\u001b[39m\"\u001b[39m\u001b[39m)\u001b[39m\u001b[39m\"\u001b[39m, \u001b[39m\"\u001b[39m\u001b[39m}\u001b[39m\u001b[39m\"\u001b[39m, \u001b[39m\"\u001b[39m\u001b[39m]\u001b[39m\u001b[39m\"\u001b[39m, ]:\n\u001b[1;32m----> 9\u001b[0m         stack\u001b[39m.\u001b[39;49mpop()\n\u001b[0;32m     10\u001b[0m     \u001b[39mprint\u001b[39m(stack)\n\u001b[0;32m     11\u001b[0m \u001b[39mreturn\u001b[39;00m \u001b[39mlen\u001b[39m(stack) \u001b[39m==\u001b[39m \u001b[39m0\u001b[39m\n",
      "\u001b[1;31mIndexError\u001b[0m: pop from empty list"
     ]
    }
   ],
   "source": [
    "def balance_stack(s):\n",
    "    stack = []\n",
    "    if len(s)%2 != 0:\n",
    "        return False\n",
    "    for i in s:\n",
    "        if i in [\"(\", \"{\", \"[\", ]:\n",
    "            stack.append(i)\n",
    "        elif i in [\")\", \"}\", \"]\", ]:\n",
    "            stack.pop()\n",
    "        print(stack)\n",
    "    return len(stack) == 0\n",
    "\n",
    "s = \"()()()()}{\"\n",
    "balance_stack(s)"
   ]
  },
  {
   "cell_type": "code",
   "execution_count": 5,
   "metadata": {},
   "outputs": [
    {
     "data": {
      "text/plain": [
       "True"
      ]
     },
     "execution_count": 5,
     "metadata": {},
     "output_type": "execute_result"
    }
   ],
   "source": [
    "def bel_check(s):\n",
    "    if len(s)%2 != 0:\n",
    "        return False\n",
    "\n",
    "    opening = set('({[')\n",
    "    matches = set([ ('(',')'), ('{','}'), ('[',']') ])\n",
    "\n",
    "    stack = []\n",
    "    for paren in s:\n",
    "        if paren in opening:\n",
    "            stack.append(paren)\n",
    "        else:\n",
    "            if len(stack) == 0:\n",
    "                return False\n",
    "            last_open = stack.pop()\n",
    "            if (last_open, paren) not in matches:\n",
    "                return False\n",
    "    return len(stack) == 0\n",
    "\n",
    "s = \"()()()\"\n",
    "bel_check(s)"
   ]
  },
  {
   "cell_type": "code",
   "execution_count": 13,
   "metadata": {},
   "outputs": [
    {
     "data": {
      "text/plain": [
       "True"
      ]
     },
     "execution_count": 13,
     "metadata": {},
     "output_type": "execute_result"
    }
   ],
   "source": [
    "def bal_che(s):\n",
    "    if len(s)%2 != 0:\n",
    "        return False\n",
    "    \n",
    "    openings = set('({[')\n",
    "    matches = set([ ('(',')'), ('{','}'), ('[',']') ])\n",
    "    stack = []\n",
    "\n",
    "    for paren in s:\n",
    "        if paren in openings:\n",
    "            stack.append(paren)\n",
    "\n",
    "        else:\n",
    "            if len(s) == 0:\n",
    "                return False\n",
    "            last_open = stack.pop()\n",
    "            if (last_open, paren) not in matches:\n",
    "                return False\n",
    "    return len(stack) == 0         \n",
    "    \n",
    "s = \"()(((()())()){}[]())\"\n",
    "bal_che(s)"
   ]
  },
  {
   "cell_type": "code",
   "execution_count": null,
   "metadata": {},
   "outputs": [],
   "source": []
  }
 ],
 "metadata": {
  "kernelspec": {
   "display_name": "Python 3.10.0 64-bit",
   "language": "python",
   "name": "python3"
  },
  "language_info": {
   "codemirror_mode": {
    "name": "ipython",
    "version": 3
   },
   "file_extension": ".py",
   "mimetype": "text/x-python",
   "name": "python",
   "nbconvert_exporter": "python",
   "pygments_lexer": "ipython3",
   "version": "3.10.4"
  },
  "orig_nbformat": 4,
  "vscode": {
   "interpreter": {
    "hash": "d11db22dd638d5361905c4c7479ebb9b8930bcbb4e2af554b3882238b7e6e7aa"
   }
  }
 },
 "nbformat": 4,
 "nbformat_minor": 2
}
