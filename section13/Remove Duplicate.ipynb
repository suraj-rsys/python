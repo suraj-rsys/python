{
 "cells": [
  {
   "cell_type": "markdown",
   "metadata": {},
   "source": [
    "# Remove Duplicate"
   ]
  },
  {
   "cell_type": "markdown",
   "metadata": {},
   "source": [
    "#### Using Two pinters"
   ]
  },
  {
   "cell_type": "code",
   "execution_count": 13,
   "metadata": {},
   "outputs": [
    {
     "name": "stdout",
     "output_type": "stream",
     "text": [
      "0 1\n",
      "0 2\n",
      "0 3\n",
      "1 4\n",
      "1 5\n",
      "2 6\n"
     ]
    },
    {
     "data": {
      "text/plain": [
       "[1, 2, 3, 4, 2, 3, 4, 4]"
      ]
     },
     "execution_count": 13,
     "metadata": {},
     "output_type": "execute_result"
    }
   ],
   "source": [
    "def remove_dup(a):\n",
    "    slow = 0\n",
    "    fast = 1\n",
    "    while fast < len(a)-1:\n",
    "        print(slow, fast)\n",
    "        if a[fast] != a[slow]:\n",
    "            slow += 1 \n",
    "            a[slow] = a[fast]\n",
    "        fast += 1\n",
    "    return a\n",
    "\n",
    "a = [1,1,1,2,2,3,4,4]\n",
    "remove_dup(a)"
   ]
  },
  {
   "cell_type": "markdown",
   "metadata": {},
   "source": [
    "#### By Counting Duplicates"
   ]
  },
  {
   "cell_type": "code",
   "execution_count": 10,
   "metadata": {},
   "outputs": [
    {
     "data": {
      "text/plain": [
       "[1, 2, 3, 4, 3, 4, 4]"
      ]
     },
     "execution_count": 10,
     "metadata": {},
     "output_type": "execute_result"
    }
   ],
   "source": [
    "def remove_dupl(a):\n",
    "    dup = 0\n",
    "    for i in range(len(a)):\n",
    "        if a[i] == a[i-1]:\n",
    "            dup = dup + 1\n",
    "        else:\n",
    "            a[i-dup] = a[i]\n",
    "    return a\n",
    "\n",
    "a = [1,1,2,2,3,4,4]\n",
    "remove_dupl(a)\n"
   ]
  },
  {
   "cell_type": "code",
   "execution_count": 2,
   "metadata": {},
   "outputs": [
    {
     "data": {
      "text/plain": [
       "[1, 2, 3, 4]"
      ]
     },
     "execution_count": 2,
     "metadata": {},
     "output_type": "execute_result"
    }
   ],
   "source": [
    "def rem_dup(a, k):\n",
    "    slow = 0\n",
    "    fast = 1\n",
    "    while fast < len(a)-1:\n",
    "        if a[slow] != a[fast]:\n",
    "            slow += 1\n",
    "            a[slow] = a[fast]\n",
    "\n",
    "        fast += 1\n",
    "    return a[:k]\n",
    "\n",
    "a = [1,1,2,2,3,4,4]\n",
    "k = 4\n",
    "rem_dup(a,k)"
   ]
  },
  {
   "cell_type": "code",
   "execution_count": null,
   "metadata": {},
   "outputs": [],
   "source": []
  }
 ],
 "metadata": {
  "kernelspec": {
   "display_name": "Python 3.10.0 64-bit",
   "language": "python",
   "name": "python3"
  },
  "language_info": {
   "codemirror_mode": {
    "name": "ipython",
    "version": 3
   },
   "file_extension": ".py",
   "mimetype": "text/x-python",
   "name": "python",
   "nbconvert_exporter": "python",
   "pygments_lexer": "ipython3",
   "version": "3.10.4"
  },
  "orig_nbformat": 4,
  "vscode": {
   "interpreter": {
    "hash": "d11db22dd638d5361905c4c7479ebb9b8930bcbb4e2af554b3882238b7e6e7aa"
   }
  }
 },
 "nbformat": 4,
 "nbformat_minor": 2
}
