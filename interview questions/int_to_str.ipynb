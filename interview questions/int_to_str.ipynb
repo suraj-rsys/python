{
 "cells": [
  {
   "cell_type": "code",
   "execution_count": 8,
   "metadata": {},
   "outputs": [
    {
     "name": "stdout",
     "output_type": "stream",
     "text": [
      "123\n",
      "-123\n",
      "0\n"
     ]
    }
   ],
   "source": [
    "def int_to_str(s):\n",
    "    s_list = s.split(\" \")\n",
    "    try:\n",
    "        a = int(s_list[0])\n",
    "    except:\n",
    "        a = None\n",
    "\n",
    "    if a:\n",
    "        return str(a)\n",
    "    return \"0\"\n",
    "\n",
    "\n",
    "s1 = \"123 asda asdasd\"\n",
    "s2 = \"-123 asda asdasd\"\n",
    "s3 = \"asda asdasd 1231\"\n",
    "print(int_to_str(s1))\n",
    "print(int_to_str(s2))\n",
    "print(int_to_str(s3))"
   ]
  },
  {
   "cell_type": "code",
   "execution_count": null,
   "metadata": {},
   "outputs": [],
   "source": []
  }
 ],
 "metadata": {
  "kernelspec": {
   "display_name": "data_science-4eYGnNCG",
   "language": "python",
   "name": "python3"
  },
  "language_info": {
   "codemirror_mode": {
    "name": "ipython",
    "version": 3
   },
   "file_extension": ".py",
   "mimetype": "text/x-python",
   "name": "python",
   "nbconvert_exporter": "python",
   "pygments_lexer": "ipython3",
   "version": "3.10.6"
  },
  "orig_nbformat": 4
 },
 "nbformat": 4,
 "nbformat_minor": 2
}
