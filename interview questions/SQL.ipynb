{
 "cells": [
  {
   "cell_type": "markdown",
   "metadata": {},
   "source": []
  },
  {
   "cell_type": "markdown",
   "metadata": {},
   "source": [
    "# SQL Questions\n",
    "- Retrieve the top 5 customers with the highest total order amounts:\n",
    "- Calculate the average revenue per day for each month in the year:\n",
    "- Retrieve the customers who have placed at least 3 orders in a single day:"
   ]
  },
  {
   "cell_type": "code",
   "execution_count": null,
   "metadata": {
    "vscode": {
     "languageId": "plaintext"
    }
   },
   "outputs": [],
   "source": []
  },
  {
   "cell_type": "markdown",
   "metadata": {},
   "source": [
    "Certainly! Here are some SQL queries that involve the `IN` operator, which you might encounter in an interview:\n",
    "\n",
    "1. Retrieve all orders placed by customers with IDs 1, 3, and 5:\n",
    "```sql\n",
    "SELECT *\n",
    "FROM orders\n",
    "WHERE customer_id IN (1, 3, 5);\n",
    "```\n",
    "\n",
    "2. Find all products with prices greater than 50 that are in the category 'Electronics':\n",
    "```sql\n",
    "SELECT *\n",
    "FROM products\n",
    "WHERE category = 'Electronics' AND price > 50;\n",
    "```\n",
    "\n",
    "3. Retrieve all employees whose job titles are either 'Manager' or 'Supervisor':\n",
    "```sql\n",
    "SELECT *\n",
    "FROM employees\n",
    "WHERE job_title IN ('Manager', 'Supervisor');\n",
    "```\n",
    "\n",
    "4. Find all orders with order IDs that match any of the order IDs in a subquery:\n",
    "```sql\n",
    "SELECT *\n",
    "FROM orders\n",
    "WHERE order_id IN (SELECT order_id FROM order_details WHERE product_id = 123);\n",
    "```\n",
    "\n",
    "5. Retrieve all customers who have placed orders with quantities greater than 10:\n",
    "```sql\n",
    "SELECT *\n",
    "FROM customers\n",
    "WHERE customer_id IN (SELECT customer_id FROM orders WHERE quantity > 10);\n",
    "```\n",
    "\n",
    "6. Find all products that have been discontinued and are not in stock:\n",
    "```sql\n",
    "SELECT *\n",
    "FROM products\n",
    "WHERE product_id IN (SELECT product_id FROM inventory WHERE stock_quantity = 0)\n",
    "  AND discontinued = 1;\n",
    "```\n",
    "\n",
    "7. Retrieve all employees who are not in the department 'Sales' or 'Marketing':\n",
    "```sql\n",
    "SELECT *\n",
    "FROM employees\n",
    "WHERE department NOT IN ('Sales', 'Marketing');\n",
    "```\n",
    "\n",
    "8. Find all orders where the order date is either in January or December of any year:\n",
    "```sql\n",
    "SELECT *\n",
    "FROM orders\n",
    "WHERE EXTRACT(MONTH FROM order_date) IN (1, 12);\n",
    "```\n",
    "\n",
    "These queries demonstrate the usage of the `IN` operator to filter records based on a list of values or a subquery. Make sure to adjust the table and column names according to your specific database schema."
   ]
  },
  {
   "cell_type": "markdown",
   "metadata": {},
   "source": [
    "# HTTP Status Code"
   ]
  },
  {
   "cell_type": "markdown",
   "metadata": {},
   "source": []
  }
 ],
 "metadata": {
  "language_info": {
   "name": "python"
  },
  "orig_nbformat": 4
 },
 "nbformat": 4,
 "nbformat_minor": 2
}
