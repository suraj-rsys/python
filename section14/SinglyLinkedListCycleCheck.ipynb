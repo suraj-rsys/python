{
 "cells": [
  {
   "attachments": {},
   "cell_type": "markdown",
   "metadata": {},
   "source": [
    "# Singly Linked List Cycle Check"
   ]
  },
  {
   "cell_type": "code",
   "execution_count": 10,
   "metadata": {},
   "outputs": [],
   "source": [
    "class Node(object):\n",
    "\n",
    "    def __init__(self, value):\n",
    "        self.value = value\n",
    "        self.nextnode = None\n"
   ]
  },
  {
   "cell_type": "code",
   "execution_count": 11,
   "metadata": {},
   "outputs": [],
   "source": [
    "a = Node(1)\n",
    "b = Node(2)\n",
    "c = Node(3)\n",
    "d = Node(4)"
   ]
  },
  {
   "cell_type": "code",
   "execution_count": 12,
   "metadata": {},
   "outputs": [],
   "source": [
    "a.nextnode = b\n",
    "b.nextnode = c\n",
    "c.nextnode = d\n",
    "d.nextnode = None"
   ]
  },
  {
   "cell_type": "code",
   "execution_count": 13,
   "metadata": {},
   "outputs": [],
   "source": [
    "def cycle_check(node):\n",
    "\n",
    "    marker1 = node\n",
    "    marker2 = node\n",
    "\n",
    "    while marker2 != None and marker2.nextnode != None:\n",
    "        marker1 = marker1.nextnode \n",
    "        marker2 = marker2.nextnode.nextnode\n",
    "\n",
    "        if marker2 == marker1:\n",
    "            return True\n",
    "        \n",
    "    return False"
   ]
  },
  {
   "cell_type": "code",
   "execution_count": 25,
   "metadata": {},
   "outputs": [],
   "source": [
    "# \"\"\"\n",
    "# RUN THIS CELL TO TEST YOUR SOLUTION\n",
    "# \"\"\"\n",
    "# from nose.tools import assert_equal\n",
    "\n",
    "# # CREATE CYCLE LIST\n",
    "# a = Node(1)\n",
    "# b = Node(2)\n",
    "# c = Node(3)\n",
    "\n",
    "# a.nextnode = b\n",
    "# b.nextnode = c\n",
    "# c.nextnode = a # Cycle Here!\n",
    "\n",
    "\n",
    "# # CREATE NON CYCLE LIST\n",
    "# x = Node(1)\n",
    "# y = Node(2)\n",
    "# z = Node(3)\n",
    "\n",
    "# x.nextnode = y\n",
    "# y.nextnode = z\n",
    "\n",
    "\n",
    "# #############\n",
    "# class TestCycleCheck(object):\n",
    "    \n",
    "#     def test(self,sol):\n",
    "#         assert_equal(sol(a),True)\n",
    "#         assert_equal(sol(x),False)\n",
    "        \n",
    "#         print(\"ALL TEST CASES PASSED\")\n",
    "        \n",
    "# # Run Tests\n",
    "\n",
    "# t = TestCycleCheck()\n",
    "# t.test(cycle_check)\n"
   ]
  },
  {
   "cell_type": "code",
   "execution_count": 14,
   "metadata": {},
   "outputs": [
    {
     "data": {
      "text/plain": [
       "False"
      ]
     },
     "execution_count": 14,
     "metadata": {},
     "output_type": "execute_result"
    }
   ],
   "source": [
    "cycle_check(a)"
   ]
  },
  {
   "cell_type": "code",
   "execution_count": null,
   "metadata": {},
   "outputs": [],
   "source": []
  }
 ],
 "metadata": {
  "kernelspec": {
   "display_name": "Python 3",
   "language": "python",
   "name": "python3"
  },
  "language_info": {
   "codemirror_mode": {
    "name": "ipython",
    "version": 3
   },
   "file_extension": ".py",
   "mimetype": "text/x-python",
   "name": "python",
   "nbconvert_exporter": "python",
   "pygments_lexer": "ipython3",
   "version": "3.10.6"
  },
  "orig_nbformat": 4,
  "vscode": {
   "interpreter": {
    "hash": "c79d3201a081432f653be85d41cc132697727954be573b0a2142222cac93af21"
   }
  }
 },
 "nbformat": 4,
 "nbformat_minor": 2
}
